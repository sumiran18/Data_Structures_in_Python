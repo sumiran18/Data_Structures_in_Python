{
 "cells": [
  {
   "cell_type": "code",
   "execution_count": 10,
   "id": "a0db7860",
   "metadata": {},
   "outputs": [
    {
     "data": {
      "text/plain": [
       "False"
      ]
     },
     "execution_count": 10,
     "metadata": {},
     "output_type": "execute_result"
    }
   ],
   "source": [
    "bool()"
   ]
  },
  {
   "cell_type": "code",
   "execution_count": 3,
   "id": "a51b230d",
   "metadata": {},
   "outputs": [
    {
     "data": {
      "text/plain": [
       "bool"
      ]
     },
     "execution_count": 3,
     "metadata": {},
     "output_type": "execute_result"
    }
   ],
   "source": [
    "type(True)"
   ]
  },
  {
   "cell_type": "code",
   "execution_count": 4,
   "id": "6e2a896b",
   "metadata": {},
   "outputs": [
    {
     "data": {
      "text/plain": [
       "bool"
      ]
     },
     "execution_count": 4,
     "metadata": {},
     "output_type": "execute_result"
    }
   ],
   "source": [
    "type(False)"
   ]
  },
  {
   "cell_type": "code",
   "execution_count": 10,
   "id": "0d336c63",
   "metadata": {},
   "outputs": [],
   "source": [
    "my_str=\"Sumiran Grover\""
   ]
  },
  {
   "cell_type": "code",
   "execution_count": 11,
   "id": "e57c97c8",
   "metadata": {},
   "outputs": [
    {
     "data": {
      "text/plain": [
       "'Sumiran Grover'"
      ]
     },
     "execution_count": 11,
     "metadata": {},
     "output_type": "execute_result"
    }
   ],
   "source": [
    "my_str"
   ]
  },
  {
   "cell_type": "code",
   "execution_count": 12,
   "id": "20ea70d2",
   "metadata": {},
   "outputs": [
    {
     "data": {
      "text/plain": [
       "False"
      ]
     },
     "execution_count": 12,
     "metadata": {},
     "output_type": "execute_result"
    }
   ],
   "source": [
    "my_str.isalnum()\n",
    "#checks if all the string is a combination of alphanumeric"
   ]
  },
  {
   "cell_type": "code",
   "execution_count": 13,
   "id": "ad65f1d0",
   "metadata": {},
   "outputs": [
    {
     "data": {
      "text/plain": [
       "False"
      ]
     },
     "execution_count": 13,
     "metadata": {},
     "output_type": "execute_result"
    }
   ],
   "source": [
    "my_str.isalpha()\n",
    "#checks if the string contains only alphabets(no spaces, numbers and special characters)"
   ]
  },
  {
   "cell_type": "code",
   "execution_count": 14,
   "id": "74da3b5e",
   "metadata": {},
   "outputs": [
    {
     "data": {
      "text/plain": [
       "True"
      ]
     },
     "execution_count": 14,
     "metadata": {},
     "output_type": "execute_result"
    }
   ],
   "source": [
    "my_str=\"abc\"\n",
    "my_str.isalpha()"
   ]
  },
  {
   "cell_type": "code",
   "execution_count": 15,
   "id": "8abd4ead",
   "metadata": {},
   "outputs": [
    {
     "data": {
      "text/plain": [
       "True"
      ]
     },
     "execution_count": 15,
     "metadata": {},
     "output_type": "execute_result"
    }
   ],
   "source": [
    "my_str=\"wxyz\"\n",
    "my_str.isalpha()"
   ]
  },
  {
   "cell_type": "code",
   "execution_count": 18,
   "id": "fdff8ec9",
   "metadata": {},
   "outputs": [],
   "source": [
    "my_str=\"Sumiran Grover\""
   ]
  },
  {
   "cell_type": "code",
   "execution_count": 20,
   "id": "405106ea",
   "metadata": {},
   "outputs": [
    {
     "data": {
      "text/plain": [
       "'Sumiran Grover'"
      ]
     },
     "execution_count": 20,
     "metadata": {},
     "output_type": "execute_result"
    }
   ],
   "source": [
    "my_str"
   ]
  },
  {
   "cell_type": "code",
   "execution_count": 21,
   "id": "c4d7f089",
   "metadata": {},
   "outputs": [
    {
     "data": {
      "text/plain": [
       "False"
      ]
     },
     "execution_count": 21,
     "metadata": {},
     "output_type": "execute_result"
    }
   ],
   "source": [
    "my_str.islower()\n",
    "#checks if string is a lower case string"
   ]
  },
  {
   "cell_type": "code",
   "execution_count": 22,
   "id": "9d1beb56",
   "metadata": {},
   "outputs": [
    {
     "data": {
      "text/plain": [
       "['Sumiran', 'Grover']"
      ]
     },
     "execution_count": 22,
     "metadata": {},
     "output_type": "execute_result"
    }
   ],
   "source": [
    "my_str.split()"
   ]
  },
  {
   "cell_type": "code",
   "execution_count": 33,
   "id": "1aa39688",
   "metadata": {},
   "outputs": [
    {
     "data": {
      "text/plain": [
       "'ran Grover'"
      ]
     },
     "execution_count": 33,
     "metadata": {},
     "output_type": "execute_result"
    }
   ],
   "source": [
    "my_str.removeprefix('Sumi')\n",
    "#returns the string with given prefix string removed"
   ]
  },
  {
   "cell_type": "code",
   "execution_count": 34,
   "id": "e3f3cb0e",
   "metadata": {},
   "outputs": [
    {
     "data": {
      "text/plain": [
       "' Grover'"
      ]
     },
     "execution_count": 34,
     "metadata": {},
     "output_type": "execute_result"
    }
   ],
   "source": [
    "my_str.removeprefix(\"Sumiran\")"
   ]
  },
  {
   "cell_type": "code",
   "execution_count": 35,
   "id": "ebe06d02",
   "metadata": {},
   "outputs": [
    {
     "data": {
      "text/plain": [
       "False"
      ]
     },
     "execution_count": 35,
     "metadata": {},
     "output_type": "execute_result"
    }
   ],
   "source": [
    "my_str.isupper()"
   ]
  },
  {
   "cell_type": "code",
   "execution_count": 36,
   "id": "724c12b7",
   "metadata": {},
   "outputs": [
    {
     "data": {
      "text/plain": [
       "True"
      ]
     },
     "execution_count": 36,
     "metadata": {},
     "output_type": "execute_result"
    }
   ],
   "source": [
    "my_str.startswith('S')"
   ]
  },
  {
   "cell_type": "code",
   "execution_count": 37,
   "id": "9244a387",
   "metadata": {},
   "outputs": [
    {
     "data": {
      "text/plain": [
       "True"
      ]
     },
     "execution_count": 37,
     "metadata": {},
     "output_type": "execute_result"
    }
   ],
   "source": [
    "my_str.endswith('r')"
   ]
  },
  {
   "cell_type": "code",
   "execution_count": 38,
   "id": "1d8ae594",
   "metadata": {},
   "outputs": [
    {
     "data": {
      "text/plain": [
       "True"
      ]
     },
     "execution_count": 38,
     "metadata": {},
     "output_type": "execute_result"
    }
   ],
   "source": [
    "my_str.istitle()\n",
    "#first letter of each word is Upper Case and rest are in lower case-->Title case "
   ]
  },
  {
   "cell_type": "markdown",
   "id": "05792d2b",
   "metadata": {},
   "source": [
    "# Boolean Operations "
   ]
  },
  {
   "cell_type": "code",
   "execution_count": 41,
   "id": "0d8eb3b0",
   "metadata": {},
   "outputs": [
    {
     "data": {
      "text/plain": [
       "True"
      ]
     },
     "execution_count": 41,
     "metadata": {},
     "output_type": "execute_result"
    }
   ],
   "source": [
    "True and True "
   ]
  },
  {
   "cell_type": "code",
   "execution_count": 42,
   "id": "0ae6731b",
   "metadata": {},
   "outputs": [
    {
     "data": {
      "text/plain": [
       "False"
      ]
     },
     "execution_count": 42,
     "metadata": {},
     "output_type": "execute_result"
    }
   ],
   "source": [
    "True and False "
   ]
  },
  {
   "cell_type": "code",
   "execution_count": 43,
   "id": "3b433451",
   "metadata": {},
   "outputs": [
    {
     "data": {
      "text/plain": [
       "True"
      ]
     },
     "execution_count": 43,
     "metadata": {},
     "output_type": "execute_result"
    }
   ],
   "source": [
    "True or False "
   ]
  },
  {
   "cell_type": "code",
   "execution_count": 40,
   "id": "c77c2c73",
   "metadata": {},
   "outputs": [
    {
     "data": {
      "text/plain": [
       "False"
      ]
     },
     "execution_count": 40,
     "metadata": {},
     "output_type": "execute_result"
    }
   ],
   "source": [
    "str=\"wXy\"\n",
    "str.istitle()"
   ]
  },
  {
   "cell_type": "code",
   "execution_count": 44,
   "id": "a7db9b69",
   "metadata": {},
   "outputs": [],
   "source": [
    "my_str=\"Sumiran2004\"\n",
    "sample_str=\"Grover\""
   ]
  },
  {
   "cell_type": "code",
   "execution_count": 45,
   "id": "9705f410",
   "metadata": {},
   "outputs": [
    {
     "data": {
      "text/plain": [
       "True"
      ]
     },
     "execution_count": 45,
     "metadata": {},
     "output_type": "execute_result"
    }
   ],
   "source": [
    "my_str.isalnum() and sample_str.isalpha()"
   ]
  },
  {
   "cell_type": "markdown",
   "id": "7df5041e",
   "metadata": {},
   "source": [
    "# List"
   ]
  },
  {
   "cell_type": "code",
   "execution_count": 46,
   "id": "2498a857",
   "metadata": {},
   "outputs": [
    {
     "data": {
      "text/plain": [
       "list"
      ]
     },
     "execution_count": 46,
     "metadata": {},
     "output_type": "execute_result"
    }
   ],
   "source": [
    "type([])"
   ]
  },
  {
   "cell_type": "code",
   "execution_count": 48,
   "id": "ed44204a",
   "metadata": {},
   "outputs": [
    {
     "data": {
      "text/plain": [
       "list"
      ]
     },
     "execution_count": 48,
     "metadata": {},
     "output_type": "execute_result"
    }
   ],
   "source": [
    "sample1=[]\n",
    "type(sample1)\n",
    "\n"
   ]
  },
  {
   "cell_type": "code",
   "execution_count": 49,
   "id": "a11cfa1f",
   "metadata": {},
   "outputs": [
    {
     "data": {
      "text/plain": [
       "list"
      ]
     },
     "execution_count": 49,
     "metadata": {},
     "output_type": "execute_result"
    }
   ],
   "source": [
    "sample2=list()\n",
    "type(sample2)\n",
    "#list()-->in-built function used to create an empty list"
   ]
  },
  {
   "cell_type": "code",
   "execution_count": 80,
   "id": "ada75218",
   "metadata": {},
   "outputs": [
    {
     "data": {
      "text/plain": [
       "['Physics', 'Mathematics', 100, 98]"
      ]
     },
     "execution_count": 80,
     "metadata": {},
     "output_type": "execute_result"
    }
   ],
   "source": [
    "sample=['Physics','Mathematics',100,98]\n",
    "sample"
   ]
  },
  {
   "cell_type": "code",
   "execution_count": 81,
   "id": "f9e82e35",
   "metadata": {},
   "outputs": [],
   "source": [
    "sample.insert(2,\"Chemistry\")\n",
    "#inserts--> adds the element at specified position"
   ]
  },
  {
   "cell_type": "code",
   "execution_count": 82,
   "id": "9e306d5d",
   "metadata": {},
   "outputs": [],
   "source": [
    "sample.append(95)"
   ]
  },
  {
   "cell_type": "code",
   "execution_count": 84,
   "id": "4dba80b1",
   "metadata": {},
   "outputs": [
    {
     "data": {
      "text/plain": [
       "'Chemistry'"
      ]
     },
     "execution_count": 84,
     "metadata": {},
     "output_type": "execute_result"
    }
   ],
   "source": [
    "sample[2]\n",
    "\n",
    "#indexing in list starts from 0"
   ]
  },
  {
   "cell_type": "code",
   "execution_count": 85,
   "id": "6f3ee1ba",
   "metadata": {},
   "outputs": [
    {
     "data": {
      "text/plain": [
       "98"
      ]
     },
     "execution_count": 85,
     "metadata": {},
     "output_type": "execute_result"
    }
   ],
   "source": [
    "sample[4]"
   ]
  },
  {
   "cell_type": "code",
   "execution_count": 86,
   "id": "64b23d13",
   "metadata": {},
   "outputs": [
    {
     "data": {
      "text/plain": [
       "['Physics', 'Mathematics', 'Chemistry', 100, 98, 95]"
      ]
     },
     "execution_count": 86,
     "metadata": {},
     "output_type": "execute_result"
    }
   ],
   "source": [
    "sample[:]"
   ]
  },
  {
   "cell_type": "code",
   "execution_count": 87,
   "id": "17632b69",
   "metadata": {},
   "outputs": [
    {
     "data": {
      "text/plain": [
       "['Mathematics', 'Chemistry']"
      ]
     },
     "execution_count": 87,
     "metadata": {},
     "output_type": "execute_result"
    }
   ],
   "source": [
    "sample[1:3]"
   ]
  },
  {
   "cell_type": "code",
   "execution_count": 88,
   "id": "0ccf9c4d",
   "metadata": {},
   "outputs": [
    {
     "data": {
      "text/plain": [
       "['Physics', 'Mathematics', 'Chemistry', 100, 98, 95]"
      ]
     },
     "execution_count": 88,
     "metadata": {},
     "output_type": "execute_result"
    }
   ],
   "source": [
    "sample[:6]"
   ]
  },
  {
   "cell_type": "code",
   "execution_count": 91,
   "id": "eb0489be",
   "metadata": {},
   "outputs": [],
   "source": [
    "sample.append(['English','Computer Sceince'])"
   ]
  },
  {
   "cell_type": "code",
   "execution_count": 92,
   "id": "74843565",
   "metadata": {},
   "outputs": [
    {
     "data": {
      "text/plain": [
       "['Physics',\n",
       " 'Mathematics',\n",
       " 'Chemistry',\n",
       " 100,\n",
       " 98,\n",
       " 95,\n",
       " ['English', 'Computer Sceince'],\n",
       " ['English', 'Computer Sceince']]"
      ]
     },
     "execution_count": 92,
     "metadata": {},
     "output_type": "execute_result"
    }
   ],
   "source": [
    "sample\n",
    "\n",
    "#nesting of lists"
   ]
  },
  {
   "cell_type": "code",
   "execution_count": 95,
   "id": "a2b57a15",
   "metadata": {},
   "outputs": [],
   "source": [
    "#extend method \n",
    "sample=[1,2,3,4,5]\n",
    "sample.extend([6,7])\n",
    "\n",
    "#extend methods adds the elements as seperate elements in list , unlike Append() method"
   ]
  },
  {
   "cell_type": "code",
   "execution_count": 96,
   "id": "c74e6118",
   "metadata": {},
   "outputs": [
    {
     "data": {
      "text/plain": [
       "[1, 2, 3, 4, 5, 6, 7]"
      ]
     },
     "execution_count": 96,
     "metadata": {},
     "output_type": "execute_result"
    }
   ],
   "source": [
    "sample"
   ]
  },
  {
   "cell_type": "code",
   "execution_count": 97,
   "id": "543ee3c9",
   "metadata": {},
   "outputs": [
    {
     "data": {
      "text/plain": [
       "7"
      ]
     },
     "execution_count": 97,
     "metadata": {},
     "output_type": "execute_result"
    }
   ],
   "source": [
    "len(sample)"
   ]
  },
  {
   "cell_type": "markdown",
   "id": "f4699461",
   "metadata": {},
   "source": [
    "Various Operations that can be performed in Lists"
   ]
  },
  {
   "cell_type": "code",
   "execution_count": 98,
   "id": "54dee8c5",
   "metadata": {},
   "outputs": [
    {
     "data": {
      "text/plain": [
       "28"
      ]
     },
     "execution_count": 98,
     "metadata": {},
     "output_type": "execute_result"
    }
   ],
   "source": [
    "sum(sample)"
   ]
  },
  {
   "cell_type": "code",
   "execution_count": 99,
   "id": "c5d51591",
   "metadata": {},
   "outputs": [
    {
     "data": {
      "text/plain": [
       "7"
      ]
     },
     "execution_count": 99,
     "metadata": {},
     "output_type": "execute_result"
    }
   ],
   "source": [
    "sample.pop()\n",
    "#pop()--> removes and returns the element at the given index \n",
    "#if index is not given, it removes the last element "
   ]
  },
  {
   "cell_type": "code",
   "execution_count": 100,
   "id": "823f3068",
   "metadata": {},
   "outputs": [
    {
     "data": {
      "text/plain": [
       "[1, 2, 3, 4, 5, 6]"
      ]
     },
     "execution_count": 100,
     "metadata": {},
     "output_type": "execute_result"
    }
   ],
   "source": [
    "sample"
   ]
  },
  {
   "cell_type": "code",
   "execution_count": 101,
   "id": "c320c2d0",
   "metadata": {},
   "outputs": [],
   "source": [
    "sample=[1,1,1,2,3,2,4,3,5,6,3]"
   ]
  },
  {
   "cell_type": "code",
   "execution_count": 102,
   "id": "0ae9f239",
   "metadata": {},
   "outputs": [
    {
     "data": {
      "text/plain": [
       "3"
      ]
     },
     "execution_count": 102,
     "metadata": {},
     "output_type": "execute_result"
    }
   ],
   "source": [
    "sample.count(1)\n",
    "#count()--> counts the total occurence of element in the list "
   ]
  },
  {
   "cell_type": "code",
   "execution_count": 103,
   "id": "950ec512",
   "metadata": {},
   "outputs": [
    {
     "data": {
      "text/plain": [
       "3"
      ]
     },
     "execution_count": 103,
     "metadata": {},
     "output_type": "execute_result"
    }
   ],
   "source": [
    "sample.count(3)"
   ]
  },
  {
   "cell_type": "code",
   "execution_count": 104,
   "id": "497c7a6a",
   "metadata": {},
   "outputs": [
    {
     "data": {
      "text/plain": [
       "0"
      ]
     },
     "execution_count": 104,
     "metadata": {},
     "output_type": "execute_result"
    }
   ],
   "source": [
    "sample.index(1)\n",
    "#index()--> returns the first occurence of element in the list "
   ]
  },
  {
   "cell_type": "code",
   "execution_count": 105,
   "id": "f6ed9505",
   "metadata": {},
   "outputs": [
    {
     "data": {
      "text/plain": [
       "1"
      ]
     },
     "execution_count": 105,
     "metadata": {},
     "output_type": "execute_result"
    }
   ],
   "source": [
    "sample.index(1,1,4)\n",
    "#second argument-->start position\n",
    "#third argument--> end position"
   ]
  },
  {
   "cell_type": "code",
   "execution_count": 106,
   "id": "853a60a4",
   "metadata": {},
   "outputs": [
    {
     "data": {
      "text/plain": [
       "6"
      ]
     },
     "execution_count": 106,
     "metadata": {},
     "output_type": "execute_result"
    }
   ],
   "source": [
    "max(sample)"
   ]
  },
  {
   "cell_type": "code",
   "execution_count": 107,
   "id": "835ad5d9",
   "metadata": {},
   "outputs": [
    {
     "data": {
      "text/plain": [
       "1"
      ]
     },
     "execution_count": 107,
     "metadata": {},
     "output_type": "execute_result"
    }
   ],
   "source": [
    "min(sample)"
   ]
  },
  {
   "cell_type": "code",
   "execution_count": 108,
   "id": "6776526d",
   "metadata": {},
   "outputs": [],
   "source": [
    "sample.sort()"
   ]
  },
  {
   "cell_type": "code",
   "execution_count": 109,
   "id": "90f037af",
   "metadata": {},
   "outputs": [
    {
     "data": {
      "text/plain": [
       "[1, 1, 1, 2, 2, 3, 3, 3, 4, 5, 6]"
      ]
     },
     "execution_count": 109,
     "metadata": {},
     "output_type": "execute_result"
    }
   ],
   "source": [
    "sample"
   ]
  },
  {
   "cell_type": "markdown",
   "id": "9786aadb",
   "metadata": {},
   "source": [
    "# Sets\n",
    "A set is an unordered collection of data type that is iterable , mutable and has NO DUPLICATE ELEMENTS.\n",
    "Python's set class represents the Mathematical notion of a set. This is based on the data structure known as Hash Table\n"
   ]
  },
  {
   "cell_type": "code",
   "execution_count": 112,
   "id": "a77fe635",
   "metadata": {},
   "outputs": [
    {
     "name": "stdout",
     "output_type": "stream",
     "text": [
      "set()\n"
     ]
    }
   ],
   "source": [
    "#defining an empty set \n",
    "set_var=set()\n",
    "print(set_var)"
   ]
  },
  {
   "cell_type": "code",
   "execution_count": 113,
   "id": "29701e66",
   "metadata": {},
   "outputs": [
    {
     "data": {
      "text/plain": [
       "set"
      ]
     },
     "execution_count": 113,
     "metadata": {},
     "output_type": "execute_result"
    }
   ],
   "source": [
    "type(set_var)"
   ]
  },
  {
   "cell_type": "code",
   "execution_count": 114,
   "id": "f521c33f",
   "metadata": {},
   "outputs": [],
   "source": [
    "set_var={1,2,3,4}"
   ]
  },
  {
   "cell_type": "code",
   "execution_count": 116,
   "id": "5f0ac9ee",
   "metadata": {},
   "outputs": [
    {
     "data": {
      "text/plain": [
       "{1, 2, 3, 4}"
      ]
     },
     "execution_count": 116,
     "metadata": {},
     "output_type": "execute_result"
    }
   ],
   "source": [
    "set_var"
   ]
  },
  {
   "cell_type": "code",
   "execution_count": 117,
   "id": "77358bdc",
   "metadata": {},
   "outputs": [],
   "source": [
    "set_var={1,2,3,4,2}\n",
    "\n",
    "#no duplicate element is printed"
   ]
  },
  {
   "cell_type": "code",
   "execution_count": 118,
   "id": "9915f37b",
   "metadata": {},
   "outputs": [
    {
     "data": {
      "text/plain": [
       "{1, 2, 3, 4}"
      ]
     },
     "execution_count": 118,
     "metadata": {},
     "output_type": "execute_result"
    }
   ],
   "source": [
    "set_var"
   ]
  },
  {
   "cell_type": "code",
   "execution_count": 119,
   "id": "1def9609",
   "metadata": {},
   "outputs": [
    {
     "data": {
      "text/plain": [
       "4"
      ]
     },
     "execution_count": 119,
     "metadata": {},
     "output_type": "execute_result"
    }
   ],
   "source": [
    "len(set_var)"
   ]
  },
  {
   "cell_type": "code",
   "execution_count": 120,
   "id": "1c74469d",
   "metadata": {},
   "outputs": [
    {
     "ename": "TypeError",
     "evalue": "'set' object is not subscriptable",
     "output_type": "error",
     "traceback": [
      "\u001b[1;31m---------------------------------------------------------------------------\u001b[0m",
      "\u001b[1;31mTypeError\u001b[0m                                 Traceback (most recent call last)",
      "Cell \u001b[1;32mIn[120], line 2\u001b[0m\n\u001b[0;32m      1\u001b[0m \u001b[38;5;66;03m##indexing\u001b[39;00m\n\u001b[1;32m----> 2\u001b[0m \u001b[43mset_var\u001b[49m\u001b[43m[\u001b[49m\u001b[38;5;241;43m0\u001b[39;49m\u001b[43m]\u001b[49m\n",
      "\u001b[1;31mTypeError\u001b[0m: 'set' object is not subscriptable"
     ]
    }
   ],
   "source": [
    "##indexing\n",
    "set_var[0]"
   ]
  },
  {
   "cell_type": "code",
   "execution_count": 121,
   "id": "d0404d0b",
   "metadata": {},
   "outputs": [
    {
     "ename": "TypeError",
     "evalue": "'set' object is not subscriptable",
     "output_type": "error",
     "traceback": [
      "\u001b[1;31m---------------------------------------------------------------------------\u001b[0m",
      "\u001b[1;31mTypeError\u001b[0m                                 Traceback (most recent call last)",
      "Cell \u001b[1;32mIn[121], line 1\u001b[0m\n\u001b[1;32m----> 1\u001b[0m \u001b[43mset_var\u001b[49m\u001b[43m[\u001b[49m\u001b[38;5;241;43m1\u001b[39;49m\u001b[43m]\u001b[49m\n",
      "\u001b[1;31mTypeError\u001b[0m: 'set' object is not subscriptable"
     ]
    }
   ],
   "source": [
    "set_var[1]\n",
    "\n",
    "#sets do not support indexing "
   ]
  },
  {
   "cell_type": "code",
   "execution_count": 124,
   "id": "ab394576",
   "metadata": {},
   "outputs": [],
   "source": [
    "set_var.add(7)"
   ]
  },
  {
   "cell_type": "code",
   "execution_count": 125,
   "id": "f7549b3d",
   "metadata": {},
   "outputs": [
    {
     "data": {
      "text/plain": [
       "{1, 2, 3, 4, 7}"
      ]
     },
     "execution_count": 125,
     "metadata": {},
     "output_type": "execute_result"
    }
   ],
   "source": [
    "set_var"
   ]
  },
  {
   "cell_type": "code",
   "execution_count": 126,
   "id": "a1860c3a",
   "metadata": {},
   "outputs": [],
   "source": [
    "set_var2={2,5,9,12}"
   ]
  },
  {
   "cell_type": "code",
   "execution_count": 127,
   "id": "c11608f6",
   "metadata": {},
   "outputs": [
    {
     "data": {
      "text/plain": [
       "{2, 5, 9, 12}"
      ]
     },
     "execution_count": 127,
     "metadata": {},
     "output_type": "execute_result"
    }
   ],
   "source": [
    "set_var2"
   ]
  },
  {
   "cell_type": "code",
   "execution_count": 128,
   "id": "f30e1bc8",
   "metadata": {},
   "outputs": [
    {
     "data": {
      "text/plain": [
       "{2}"
      ]
     },
     "execution_count": 128,
     "metadata": {},
     "output_type": "execute_result"
    }
   ],
   "source": [
    "set_var.intersection(set_var2)"
   ]
  },
  {
   "cell_type": "code",
   "execution_count": 129,
   "id": "18c49772",
   "metadata": {},
   "outputs": [
    {
     "data": {
      "text/plain": [
       "{1, 3, 4, 7}"
      ]
     },
     "execution_count": 129,
     "metadata": {},
     "output_type": "execute_result"
    }
   ],
   "source": [
    "set_var.difference(set_var2)\n",
    "#difference()--> creates a new set, without the unwanted items "
   ]
  },
  {
   "cell_type": "code",
   "execution_count": 130,
   "id": "281535ca",
   "metadata": {},
   "outputs": [],
   "source": [
    "set_var.difference_update(set_var2)\n",
    "#difference_update()--> removes the unwanted elements from the original set"
   ]
  },
  {
   "cell_type": "code",
   "execution_count": 132,
   "id": "c8a391e0",
   "metadata": {},
   "outputs": [
    {
     "data": {
      "text/plain": [
       "{1, 3, 4, 7}"
      ]
     },
     "execution_count": 132,
     "metadata": {},
     "output_type": "execute_result"
    }
   ],
   "source": [
    "set_var\n"
   ]
  },
  {
   "cell_type": "code",
   "execution_count": 133,
   "id": "ae717fe5",
   "metadata": {},
   "outputs": [
    {
     "data": {
      "text/plain": [
       "{1, 2, 3, 4, 5, 7, 9, 12}"
      ]
     },
     "execution_count": 133,
     "metadata": {},
     "output_type": "execute_result"
    }
   ],
   "source": [
    "set_var.symmetric_difference(set_var2)\n",
    "#symetric_difference()--> returns the set containing all the elements but not the elements present in both the sets"
   ]
  },
  {
   "cell_type": "markdown",
   "id": "72a33ee8",
   "metadata": {},
   "source": [
    "# Dictionary\n",
    "It is a collection unordered, changeable and indexed data. Python dictionaries are written in curly brackets and have keys and values "
   ]
  },
  {
   "cell_type": "code",
   "execution_count": 134,
   "id": "5e50007a",
   "metadata": {},
   "outputs": [],
   "source": [
    "dict={}"
   ]
  },
  {
   "cell_type": "code",
   "execution_count": 135,
   "id": "994a51ab",
   "metadata": {},
   "outputs": [
    {
     "data": {
      "text/plain": [
       "dict"
      ]
     },
     "execution_count": 135,
     "metadata": {},
     "output_type": "execute_result"
    }
   ],
   "source": [
    "type(dict)\n",
    "\n",
    "\n"
   ]
  },
  {
   "cell_type": "code",
   "execution_count": 136,
   "id": "83dd77cd",
   "metadata": {},
   "outputs": [],
   "source": [
    "dict={1,2,3,4}"
   ]
  },
  {
   "cell_type": "code",
   "execution_count": 137,
   "id": "0ac6f592",
   "metadata": {},
   "outputs": [
    {
     "data": {
      "text/plain": [
       "set"
      ]
     },
     "execution_count": 137,
     "metadata": {},
     "output_type": "execute_result"
    }
   ],
   "source": [
    "type(dict)\n",
    "\n",
    "#dictionary has key and values"
   ]
  },
  {
   "cell_type": "code",
   "execution_count": 19,
   "id": "227f9b18",
   "metadata": {},
   "outputs": [],
   "source": [
    "#creating a dictionary\n",
    "dict={\"subject1\":\"Mathematics\",\"subject2\":\"Physics\",\"subject3\":\"Computer Science\",\"subject4\":\"English\",\"subject5\":\"Fashion Studies\"}\n",
    "      "
   ]
  },
  {
   "cell_type": "code",
   "execution_count": 20,
   "id": "c9f233df",
   "metadata": {},
   "outputs": [
    {
     "data": {
      "text/plain": [
       "dict"
      ]
     },
     "execution_count": 20,
     "metadata": {},
     "output_type": "execute_result"
    }
   ],
   "source": [
    "type(dict)"
   ]
  },
  {
   "cell_type": "code",
   "execution_count": 21,
   "id": "3438e44b",
   "metadata": {
    "scrolled": true
   },
   "outputs": [
    {
     "data": {
      "text/plain": [
       "'Mathematics'"
      ]
     },
     "execution_count": 21,
     "metadata": {},
     "output_type": "execute_result"
    }
   ],
   "source": [
    "#access the item value based on key \n",
    "dict[\"subject1\"]"
   ]
  },
  {
   "cell_type": "code",
   "execution_count": 150,
   "id": "924db4fb",
   "metadata": {},
   "outputs": [
    {
     "name": "stdout",
     "output_type": "stream",
     "text": [
      "subject1\n",
      "subject2\n",
      "subject3\n",
      "subject4\n",
      "subject5\n"
     ]
    }
   ],
   "source": [
    "for x in dict:\n",
    "    print(x)"
   ]
  },
  {
   "cell_type": "code",
   "execution_count": 152,
   "id": "c6400668",
   "metadata": {},
   "outputs": [
    {
     "name": "stdout",
     "output_type": "stream",
     "text": [
      "Mathematics\n",
      "Physics\n",
      "Computer Science\n",
      "English\n",
      "Fashion Studies\n"
     ]
    }
   ],
   "source": [
    "for x in dict.values():\n",
    "    print(x)"
   ]
  },
  {
   "cell_type": "code",
   "execution_count": 153,
   "id": "49722d22",
   "metadata": {},
   "outputs": [
    {
     "name": "stdout",
     "output_type": "stream",
     "text": [
      "('subject1', 'Mathematics')\n",
      "('subject2', 'Physics')\n",
      "('subject3', 'Computer Science')\n",
      "('subject4', 'English')\n",
      "('subject5', 'Fashion Studies')\n"
     ]
    }
   ],
   "source": [
    "for x in dict.items():\n",
    "    print(x)"
   ]
  },
  {
   "cell_type": "code",
   "execution_count": 22,
   "id": "78134a89",
   "metadata": {},
   "outputs": [],
   "source": [
    "#adding items in dictionary\n",
    "\n",
    "dict['subject6']=\"Enterpreneurship\""
   ]
  },
  {
   "cell_type": "code",
   "execution_count": 23,
   "id": "6d2dae40",
   "metadata": {},
   "outputs": [
    {
     "data": {
      "text/plain": [
       "{'subject1': 'Mathematics',\n",
       " 'subject2': 'Physics',\n",
       " 'subject3': 'Computer Science',\n",
       " 'subject4': 'English',\n",
       " 'subject5': 'Fashion Studies',\n",
       " 'subject6': 'Enterpreneurship'}"
      ]
     },
     "execution_count": 23,
     "metadata": {},
     "output_type": "execute_result"
    }
   ],
   "source": [
    "dict"
   ]
  },
  {
   "cell_type": "code",
   "execution_count": 41,
   "id": "f8a354a5",
   "metadata": {},
   "outputs": [],
   "source": [
    "dict[\"subject2\"]=\"Professional Communication\"\n",
    "\n",
    "#key got replaced "
   ]
  },
  {
   "cell_type": "code",
   "execution_count": 40,
   "id": "281af78a",
   "metadata": {},
   "outputs": [
    {
     "data": {
      "text/plain": [
       "{'subject1': 'Mathematics',\n",
       " 'subject2': 'Professional Communication',\n",
       " 'subject3': 'Computer Science',\n",
       " 'subject4': 'English',\n",
       " 'subject5': 'Fashion Studies',\n",
       " 'subject6': 'Enterpreneurship'}"
      ]
     },
     "execution_count": 40,
     "metadata": {},
     "output_type": "execute_result"
    }
   ],
   "source": [
    "dict"
   ]
  },
  {
   "cell_type": "raw",
   "id": "efb46f3c",
   "metadata": {},
   "source": [
    "NESTED DICTIONARY"
   ]
  },
  {
   "cell_type": "code",
   "execution_count": 26,
   "id": "8a4d3097",
   "metadata": {},
   "outputs": [],
   "source": [
    "sub1_marks={\"Mathematics\":97}\n",
    "sub2_marks={\"Professional Communication\":98}\n",
    "sub3_marks={\"Computer Science\":100}\n",
    "sub4_marks={\"English\":95}\n",
    "sub5_marks={\"Fashion Studies\":94}\n",
    "sub6_marks={\"Enterpreneurship\":90}\n",
    "marks={\"subject1\":sub1_marks,\"subject2\":sub2_marks,\"subject3\":sub3_marks}\n"
   ]
  },
  {
   "cell_type": "code",
   "execution_count": 27,
   "id": "b9ef3120",
   "metadata": {},
   "outputs": [
    {
     "data": {
      "text/plain": [
       "{'subject1': {'Mathematics': 97},\n",
       " 'subject2': {'Professional Communication': 98},\n",
       " 'subject3': {'Computer Science': 100}}"
      ]
     },
     "execution_count": 27,
     "metadata": {},
     "output_type": "execute_result"
    }
   ],
   "source": [
    "marks"
   ]
  },
  {
   "cell_type": "code",
   "execution_count": 28,
   "id": "08e6f8ad",
   "metadata": {},
   "outputs": [
    {
     "name": "stdout",
     "output_type": "stream",
     "text": [
      "{'Professional Communication': 98}\n"
     ]
    }
   ],
   "source": [
    "print(marks[\"subject2\"])\n",
    "\n",
    "#accessing elements in a nested dictionary"
   ]
  },
  {
   "cell_type": "code",
   "execution_count": 29,
   "id": "65d06776",
   "metadata": {},
   "outputs": [
    {
     "name": "stdout",
     "output_type": "stream",
     "text": [
      "100\n"
     ]
    }
   ],
   "source": [
    "print(marks['subject3']['Computer Science'])"
   ]
  },
  {
   "cell_type": "markdown",
   "id": "8bd6f5a0",
   "metadata": {},
   "source": [
    "# Tuples "
   ]
  },
  {
   "cell_type": "code",
   "execution_count": 30,
   "id": "33c0af8c",
   "metadata": {},
   "outputs": [],
   "source": [
    "my_tuple=tuple()\n",
    "\n",
    "#creating an empty tuple"
   ]
  },
  {
   "cell_type": "code",
   "execution_count": 31,
   "id": "82f049cb",
   "metadata": {},
   "outputs": [
    {
     "data": {
      "text/plain": [
       "tuple"
      ]
     },
     "execution_count": 31,
     "metadata": {},
     "output_type": "execute_result"
    }
   ],
   "source": [
    "type(my_tuple)"
   ]
  },
  {
   "cell_type": "code",
   "execution_count": 33,
   "id": "38cc536b",
   "metadata": {},
   "outputs": [],
   "source": [
    "my_tuple=(\"Rishi\",\"Seema\",\"Sumiran\",\"Dhairya\")\n",
    "#note the use of round brackets in tuples "
   ]
  },
  {
   "cell_type": "code",
   "execution_count": 34,
   "id": "5e27920a",
   "metadata": {},
   "outputs": [
    {
     "name": "stdout",
     "output_type": "stream",
     "text": [
      "('Rishi', 'Seema', 'Sumiran', 'Dhairya')\n"
     ]
    }
   ],
   "source": [
    "print(my_tuple)"
   ]
  },
  {
   "cell_type": "code",
   "execution_count": 35,
   "id": "fb94e6a5",
   "metadata": {},
   "outputs": [
    {
     "data": {
      "text/plain": [
       "'Rishi'"
      ]
     },
     "execution_count": 35,
     "metadata": {},
     "output_type": "execute_result"
    }
   ],
   "source": [
    "#accessing elements in a tuple \n",
    "my_tuple[0]"
   ]
  },
  {
   "cell_type": "code",
   "execution_count": 36,
   "id": "e3302d61",
   "metadata": {
    "scrolled": true
   },
   "outputs": [
    {
     "ename": "TypeError",
     "evalue": "'tuple' object does not support item assignment",
     "output_type": "error",
     "traceback": [
      "\u001b[1;31m---------------------------------------------------------------------------\u001b[0m",
      "\u001b[1;31mTypeError\u001b[0m                                 Traceback (most recent call last)",
      "Cell \u001b[1;32mIn[36], line 1\u001b[0m\n\u001b[1;32m----> 1\u001b[0m my_tuple[\u001b[38;5;241m0\u001b[39m]\u001b[38;5;241m=\u001b[39m\u001b[38;5;124m\"\u001b[39m\u001b[38;5;124mSumiran\u001b[39m\u001b[38;5;124m\"\u001b[39m\n",
      "\u001b[1;31mTypeError\u001b[0m: 'tuple' object does not support item assignment"
     ]
    }
   ],
   "source": [
    "my_tuple[0]=\"Sumiran\"\n",
    "#tuples are immutable. The value of the elements cannot be changed "
   ]
  },
  {
   "cell_type": "code",
   "execution_count": 37,
   "id": "a51b2b45",
   "metadata": {},
   "outputs": [
    {
     "data": {
      "text/plain": [
       "1"
      ]
     },
     "execution_count": 37,
     "metadata": {},
     "output_type": "execute_result"
    }
   ],
   "source": [
    "#in-built functions \n",
    "my_tuple.count(\"Seema\")"
   ]
  },
  {
   "cell_type": "code",
   "execution_count": 38,
   "id": "bd07ca45",
   "metadata": {},
   "outputs": [
    {
     "data": {
      "text/plain": [
       "0"
      ]
     },
     "execution_count": 38,
     "metadata": {},
     "output_type": "execute_result"
    }
   ],
   "source": [
    "my_tuple.index(\"Rishi\")"
   ]
  }
 ],
 "metadata": {
  "kernelspec": {
   "display_name": "Python 3 (ipykernel)",
   "language": "python",
   "name": "python3"
  },
  "language_info": {
   "codemirror_mode": {
    "name": "ipython",
    "version": 3
   },
   "file_extension": ".py",
   "mimetype": "text/x-python",
   "name": "python",
   "nbconvert_exporter": "python",
   "pygments_lexer": "ipython3",
   "version": "3.10.9"
  }
 },
 "nbformat": 4,
 "nbformat_minor": 5
}
